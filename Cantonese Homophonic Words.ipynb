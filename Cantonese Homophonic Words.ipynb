{
 "cells": [
  {
   "cell_type": "code",
   "execution_count": 1,
   "metadata": {},
   "outputs": [],
   "source": [
    "from selenium import webdriver\n",
    "from selenium.webdriver.common.keys import Keys\n",
    "from selenium.webdriver.support.select import Select\n",
    "import time\n",
    "import pandas as pd\n",
    "import numpy as np\n",
    "from datetime import datetime, date, timedelta\n",
    "import os\n",
    "import re\n",
    "import shutil"
   ]
  },
  {
   "cell_type": "code",
   "execution_count": 3,
   "metadata": {},
   "outputs": [],
   "source": [
    "link = 'https://humanum.arts.cuhk.edu.hk/Lexis/lexi-mf/search.php?word=宗'"
   ]
  },
  {
   "cell_type": "code",
   "execution_count": 5,
   "metadata": {},
   "outputs": [],
   "source": [
    "ChromeDriverPATH = 'C:\\\\Users\\\\C C\\\\Desktop\\\\chromedriver.exe'\n",
    "driver = webdriver.Chrome(ChromeDriverPATH)\n",
    "driver.get(link)"
   ]
  },
  {
   "cell_type": "code",
   "execution_count": 7,
   "metadata": {},
   "outputs": [
    {
     "name": "stdout",
     "output_type": "stream",
     "text": [
      "中 從 眾 終 鐘 綜 縱 忠 蹤 衷 鍾 棕 盅 憧 淙 鬃 舂 忪 螽 舯 樅 憃 柊 伀 妐 彸 倧 嵕 惾 潀 稯 翪 蔠 豵 騣 鬷 繌 鼨 炂 猣 熧 蹖 蝩 蝬 螤 鍐 艐 籦 朡\n"
     ]
    }
   ],
   "source": [
    "#char_can_phon\n",
    "\n",
    "text = driver.find_element_by_xpath(\"//td[@class='char_can_phon']\").text\n",
    "print(text)"
   ]
  },
  {
   "cell_type": "code",
   "execution_count": 8,
   "metadata": {},
   "outputs": [],
   "source": [
    "ExcelFilePATH = 'C:\\\\Users\\\\C C\\\\Desktop\\\\CantoneseNames.xlsx'\n",
    "df01 = pd.read_excel(ExcelFilePATH, sheet_name='Test')"
   ]
  },
  {
   "cell_type": "code",
   "execution_count": 9,
   "metadata": {},
   "outputs": [
    {
     "data": {
      "text/html": [
       "<div>\n",
       "<style scoped>\n",
       "    .dataframe tbody tr th:only-of-type {\n",
       "        vertical-align: middle;\n",
       "    }\n",
       "\n",
       "    .dataframe tbody tr th {\n",
       "        vertical-align: top;\n",
       "    }\n",
       "\n",
       "    .dataframe thead th {\n",
       "        text-align: right;\n",
       "    }\n",
       "</style>\n",
       "<table border=\"1\" class=\"dataframe\">\n",
       "  <thead>\n",
       "    <tr style=\"text-align: right;\">\n",
       "      <th></th>\n",
       "      <th>Entry</th>\n",
       "      <th>Left</th>\n",
       "      <th>Right</th>\n",
       "      <th>char_can_phon_left</th>\n",
       "      <th>char_can_phon_right</th>\n",
       "    </tr>\n",
       "  </thead>\n",
       "  <tbody>\n",
       "    <tr>\n",
       "      <th>0</th>\n",
       "      <td>宗翰</td>\n",
       "      <td>宗</td>\n",
       "      <td>翰</td>\n",
       "      <td>NaN</td>\n",
       "      <td>NaN</td>\n",
       "    </tr>\n",
       "    <tr>\n",
       "      <th>1</th>\n",
       "      <td>偉卿</td>\n",
       "      <td>偉</td>\n",
       "      <td>卿</td>\n",
       "      <td>NaN</td>\n",
       "      <td>NaN</td>\n",
       "    </tr>\n",
       "    <tr>\n",
       "      <th>2</th>\n",
       "      <td>雅琪</td>\n",
       "      <td>雅</td>\n",
       "      <td>琪</td>\n",
       "      <td>NaN</td>\n",
       "      <td>NaN</td>\n",
       "    </tr>\n",
       "    <tr>\n",
       "      <th>3</th>\n",
       "      <td>彥廷</td>\n",
       "      <td>彥</td>\n",
       "      <td>廷</td>\n",
       "      <td>NaN</td>\n",
       "      <td>NaN</td>\n",
       "    </tr>\n",
       "    <tr>\n",
       "      <th>4</th>\n",
       "      <td>桂男</td>\n",
       "      <td>桂</td>\n",
       "      <td>男</td>\n",
       "      <td>NaN</td>\n",
       "      <td>NaN</td>\n",
       "    </tr>\n",
       "    <tr>\n",
       "      <th>5</th>\n",
       "      <td>于玉</td>\n",
       "      <td>于</td>\n",
       "      <td>玉</td>\n",
       "      <td>NaN</td>\n",
       "      <td>NaN</td>\n",
       "    </tr>\n",
       "    <tr>\n",
       "      <th>6</th>\n",
       "      <td>建弘</td>\n",
       "      <td>建</td>\n",
       "      <td>弘</td>\n",
       "      <td>NaN</td>\n",
       "      <td>NaN</td>\n",
       "    </tr>\n",
       "    <tr>\n",
       "      <th>7</th>\n",
       "      <td>怡文</td>\n",
       "      <td>怡</td>\n",
       "      <td>文</td>\n",
       "      <td>NaN</td>\n",
       "      <td>NaN</td>\n",
       "    </tr>\n",
       "    <tr>\n",
       "      <th>8</th>\n",
       "      <td>佩芳</td>\n",
       "      <td>佩</td>\n",
       "      <td>芳</td>\n",
       "      <td>NaN</td>\n",
       "      <td>NaN</td>\n",
       "    </tr>\n",
       "    <tr>\n",
       "      <th>9</th>\n",
       "      <td>文皓</td>\n",
       "      <td>文</td>\n",
       "      <td>皓</td>\n",
       "      <td>NaN</td>\n",
       "      <td>NaN</td>\n",
       "    </tr>\n",
       "    <tr>\n",
       "      <th>10</th>\n",
       "      <td>梅然</td>\n",
       "      <td>梅</td>\n",
       "      <td>然</td>\n",
       "      <td>NaN</td>\n",
       "      <td>NaN</td>\n",
       "    </tr>\n",
       "  </tbody>\n",
       "</table>\n",
       "</div>"
      ],
      "text/plain": [
       "   Entry Left Right  char_can_phon_left  char_can_phon_right\n",
       "0     宗翰    宗     翰                 NaN                  NaN\n",
       "1     偉卿    偉     卿                 NaN                  NaN\n",
       "2     雅琪    雅     琪                 NaN                  NaN\n",
       "3     彥廷    彥     廷                 NaN                  NaN\n",
       "4     桂男    桂     男                 NaN                  NaN\n",
       "5     于玉    于     玉                 NaN                  NaN\n",
       "6     建弘    建     弘                 NaN                  NaN\n",
       "7     怡文    怡     文                 NaN                  NaN\n",
       "8     佩芳    佩     芳                 NaN                  NaN\n",
       "9     文皓    文     皓                 NaN                  NaN\n",
       "10    梅然    梅     然                 NaN                  NaN"
      ]
     },
     "execution_count": 9,
     "metadata": {},
     "output_type": "execute_result"
    }
   ],
   "source": [
    "df01"
   ]
  },
  {
   "cell_type": "code",
   "execution_count": 11,
   "metadata": {},
   "outputs": [
    {
     "data": {
      "text/plain": [
       "['宗', '偉', '雅', '彥', '桂', '于', '建', '怡', '佩', '文', '梅']"
      ]
     },
     "execution_count": 11,
     "metadata": {},
     "output_type": "execute_result"
    }
   ],
   "source": [
    "df01['Left'].tolist()"
   ]
  },
  {
   "cell_type": "code",
   "execution_count": 15,
   "metadata": {},
   "outputs": [],
   "source": [
    "def List(d, LR):\n",
    "    Listing = []\n",
    "    Listing = d[LR].tolist()\n",
    "    return Listing"
   ]
  },
  {
   "cell_type": "code",
   "execution_count": 17,
   "metadata": {},
   "outputs": [
    {
     "name": "stdout",
     "output_type": "stream",
     "text": [
      "['宗', '偉', '雅', '彥', '桂', '于', '建', '怡', '佩', '文', '梅']\n",
      "['翰', '卿', '琪', '廷', '男', '玉', '弘', '文', '芳', '皓', '然']\n"
     ]
    }
   ],
   "source": [
    "for p in ['Left','Right']:\n",
    "    x = List(df01,p)\n",
    "    print(x)"
   ]
  },
  {
   "cell_type": "code",
   "execution_count": null,
   "metadata": {},
   "outputs": [],
   "source": []
  },
  {
   "cell_type": "code",
   "execution_count": 19,
   "metadata": {},
   "outputs": [],
   "source": [
    "Unique_List = []\n",
    "\n",
    "def List(d, LR):\n",
    "    Listing = d[LR].tolist()\n",
    "    Unique_List + list(set(Listing) - set(Unique_List))\n",
    "    return Unique_List\n",
    "\n",
    "for LR in ['Left','Right']:\n",
    "    for w in List(df01,LR):\n",
    "        print(w)\n",
    "        print(Unique_List)"
   ]
  },
  {
   "cell_type": "code",
   "execution_count": 20,
   "metadata": {},
   "outputs": [
    {
     "name": "stdout",
     "output_type": "stream",
     "text": [
      "['宗', '偉', '雅', '彥', '桂', '于', '建', '怡', '佩', '文', '梅', '男', '琪', '然', '翰', '弘', '卿', '廷', '芳', '皓', '玉']\n"
     ]
    }
   ],
   "source": [
    "#df01['Left'].tolist() \n",
    "#df01['Right'].tolist()\n",
    "\n",
    "print(df01['Left'].tolist() + list(set(df01['Right'].tolist()) - set(df01['Left'].tolist())))"
   ]
  },
  {
   "cell_type": "code",
   "execution_count": 24,
   "metadata": {},
   "outputs": [],
   "source": [
    "Unique_List = df01['Left'].tolist() + list(set(df01['Right'].tolist()) - set(df01['Left'].tolist()))\n",
    "\n",
    "\n",
    "looped_list = []\n",
    "for w in Unique_List:\n",
    "    driver.get(link_start+w)\n",
    "    time.sleep(mp)\n",
    "    text = driver.find_element_by_xpath(\"//td[@class='char_can_phon']\").text\n",
    "    time.sleep(mp)\n",
    "    looped_list.append(text)\n"
   ]
  },
  {
   "cell_type": "code",
   "execution_count": 25,
   "metadata": {},
   "outputs": [
    {
     "data": {
      "text/plain": [
       "['中 從 眾 終 鐘 綜 縱 忠 蹤 衷 鍾 棕 盅 憧 淙 鬃 舂 忪 螽 舯 樅 憃 柊 伀 妐 彸 倧 嵕 惾 潀 稯 翪 蔠 豵 騣 鬷 繌 鼨 炂 猣 熧 蹖 蝩 蝬 螤 鍐 艐 籦 朡',\n",
       " '唯 緯 韋 諱 卉 葦 瑋 湋 煒 韙 洧 暐 鮪 蘤 痏 薳 蒍 韡 瀢 濻 儰 徫 椲 蓶 踓 鍏 撱',\n",
       " '啊 呀 鴉 啞 丫 椏 枒 厊 孲 錏',\n",
       " '現 見 研 諺 唁 硯 莧 峴 讞 鬳 俔 睍 喭 鋧 齞 齴 涀 牪 嵃 娊 粯',\n",
       " '貴 季 饋 瑰 悸 癸 蹶 鱖 劌 騩 溎 痵 嶡 瞶 鯚 炅 昋 暩 赽',\n",
       " '於 淤 迂 芋 瘀 紆 邘 凵 扜 杅 玗 衧 陓 箊 穻 唹 盓',\n",
       " '見 腱 毽 鋻',\n",
       " '而 兒 台 移 宜 儀 疑 擬 誼 夷 蛇 姨 涯 彝 飴 沂 詒 迤 酏 皚 頤 貽 咦 胰 簃 訑 觺 貤 鮞 痍 荑 宧 臑 嶷 匜 椸 眙 𦣞 扅 杝 儿 圯 迆 栘 侇 狋 柂 洟 洏 耏 衪 陑 桋 栭 胹 迻 唲 眱 袘 羠 聏 袲 輀 螔 鴯 鸃 崺 异 溰 沶 洍 侕 峏 峓 嶬 寲 珆 顊 熪 瓵 恞 暆 荋 萓 蔩 跠 詑 耛 蛦 鉹 鏔 箷',\n",
       " '配 肺 妃 沛 珮 霈 茇 茷 昢 旆 琲 伂 姵',\n",
       " '蚊 燜 炆',\n",
       " '煤 霉 媒 枚 玫 莓 脢 黴 塺 苺 腜 禖 鋂 呅',\n",
       " '南 隆 喃 楠 囡 囝 蝻 蚺 枏 柟 諵 抩 暔 莮 萳',\n",
       " '其 期 示 奇 旗 枝 棋 騎 歧 祁 岐 祺 琦 祇 伎 崎 祈 俟 鰭 耆 畿 淇 鯕 頎 綦 亓 蘄 圻 碁 麒 丌 騏 埼 錡 旂 蜞 蟣 隑 肵 疧 蚑 跂 萁 碕 鬿 鮨 鬐 騹 秖 衹 濝 岓 掑 魕 玂 忯 藄 軝 鄿 蚚 蚔 鶀 鵸',\n",
       " '研 言 燃 弦 延 賢 焉 羨 筵 舷 涎 揅 妍 埏 鋋 㳄 㵪 𣶙 𣶛 𣶜 橪 絃 蜒 唌 狿 莚 蚿 郔 綖 羡 漹 妶 娹 娮 玹 胘 礥 誸',\n",
       " '汗 焊 捍 扞 悍 矸 瀚 旰 犴 睅 攼 㪋 鳱 馯 鶾 銲 駻 涆 豻 釬 閈 撖 蔊 螒 雗',\n",
       " '宏 泓 嶸 竑 閎 吰 翃 宖 汯 浤 紘 耾 谹 鈜 鞃 鋐 彋 霐 苰 竤',\n",
       " '輕 興 氫 兄 馨 𠨍 鑋 漀 馫 蛵',\n",
       " '停 庭 亭 婷 蜓 霆 葶 綎 莛 渟 楟 筳 鼮 嵉 娗 榳 聤 蝏 閮',\n",
       " '方 荒 慌 肪 坊 謊 鈁 枋 肓 邡 匚 巟 汸 衁 淓',\n",
       " '稿 杲 鎬 縞 槁 暠 笴 檺 筶',\n",
       " '育 肉 賣 谷 欲 獄 辱 浴 粥 慾 毓 褥 峪 拗 鈺 鬻 溽 淯 鵒 蓐 縟 宍 鋊 堉 鄏 鳿 錥 嗕 儥 媷 蒮 蘛 輍 袬 砡']"
      ]
     },
     "execution_count": 25,
     "metadata": {},
     "output_type": "execute_result"
    }
   ],
   "source": [
    "looped_list"
   ]
  },
  {
   "cell_type": "code",
   "execution_count": 26,
   "metadata": {
    "scrolled": true
   },
   "outputs": [
    {
     "data": {
      "text/plain": [
       "{'Word': ['宗',\n",
       "  '偉',\n",
       "  '雅',\n",
       "  '彥',\n",
       "  '桂',\n",
       "  '于',\n",
       "  '建',\n",
       "  '怡',\n",
       "  '佩',\n",
       "  '文',\n",
       "  '梅',\n",
       "  '男',\n",
       "  '琪',\n",
       "  '然',\n",
       "  '翰',\n",
       "  '弘',\n",
       "  '卿',\n",
       "  '廷',\n",
       "  '芳',\n",
       "  '皓',\n",
       "  '玉'],\n",
       " 'Phon': ['中 從 眾 終 鐘 綜 縱 忠 蹤 衷 鍾 棕 盅 憧 淙 鬃 舂 忪 螽 舯 樅 憃 柊 伀 妐 彸 倧 嵕 惾 潀 稯 翪 蔠 豵 騣 鬷 繌 鼨 炂 猣 熧 蹖 蝩 蝬 螤 鍐 艐 籦 朡',\n",
       "  '唯 緯 韋 諱 卉 葦 瑋 湋 煒 韙 洧 暐 鮪 蘤 痏 薳 蒍 韡 瀢 濻 儰 徫 椲 蓶 踓 鍏 撱',\n",
       "  '啊 呀 鴉 啞 丫 椏 枒 厊 孲 錏',\n",
       "  '現 見 研 諺 唁 硯 莧 峴 讞 鬳 俔 睍 喭 鋧 齞 齴 涀 牪 嵃 娊 粯',\n",
       "  '貴 季 饋 瑰 悸 癸 蹶 鱖 劌 騩 溎 痵 嶡 瞶 鯚 炅 昋 暩 赽',\n",
       "  '於 淤 迂 芋 瘀 紆 邘 凵 扜 杅 玗 衧 陓 箊 穻 唹 盓',\n",
       "  '見 腱 毽 鋻',\n",
       "  '而 兒 台 移 宜 儀 疑 擬 誼 夷 蛇 姨 涯 彝 飴 沂 詒 迤 酏 皚 頤 貽 咦 胰 簃 訑 觺 貤 鮞 痍 荑 宧 臑 嶷 匜 椸 眙 𦣞 扅 杝 儿 圯 迆 栘 侇 狋 柂 洟 洏 耏 衪 陑 桋 栭 胹 迻 唲 眱 袘 羠 聏 袲 輀 螔 鴯 鸃 崺 异 溰 沶 洍 侕 峏 峓 嶬 寲 珆 顊 熪 瓵 恞 暆 荋 萓 蔩 跠 詑 耛 蛦 鉹 鏔 箷',\n",
       "  '配 肺 妃 沛 珮 霈 茇 茷 昢 旆 琲 伂 姵',\n",
       "  '蚊 燜 炆',\n",
       "  '煤 霉 媒 枚 玫 莓 脢 黴 塺 苺 腜 禖 鋂 呅',\n",
       "  '南 隆 喃 楠 囡 囝 蝻 蚺 枏 柟 諵 抩 暔 莮 萳',\n",
       "  '其 期 示 奇 旗 枝 棋 騎 歧 祁 岐 祺 琦 祇 伎 崎 祈 俟 鰭 耆 畿 淇 鯕 頎 綦 亓 蘄 圻 碁 麒 丌 騏 埼 錡 旂 蜞 蟣 隑 肵 疧 蚑 跂 萁 碕 鬿 鮨 鬐 騹 秖 衹 濝 岓 掑 魕 玂 忯 藄 軝 鄿 蚚 蚔 鶀 鵸',\n",
       "  '研 言 燃 弦 延 賢 焉 羨 筵 舷 涎 揅 妍 埏 鋋 㳄 㵪 𣶙 𣶛 𣶜 橪 絃 蜒 唌 狿 莚 蚿 郔 綖 羡 漹 妶 娹 娮 玹 胘 礥 誸',\n",
       "  '汗 焊 捍 扞 悍 矸 瀚 旰 犴 睅 攼 㪋 鳱 馯 鶾 銲 駻 涆 豻 釬 閈 撖 蔊 螒 雗',\n",
       "  '宏 泓 嶸 竑 閎 吰 翃 宖 汯 浤 紘 耾 谹 鈜 鞃 鋐 彋 霐 苰 竤',\n",
       "  '輕 興 氫 兄 馨 𠨍 鑋 漀 馫 蛵',\n",
       "  '停 庭 亭 婷 蜓 霆 葶 綎 莛 渟 楟 筳 鼮 嵉 娗 榳 聤 蝏 閮',\n",
       "  '方 荒 慌 肪 坊 謊 鈁 枋 肓 邡 匚 巟 汸 衁 淓',\n",
       "  '稿 杲 鎬 縞 槁 暠 笴 檺 筶',\n",
       "  '育 肉 賣 谷 欲 獄 辱 浴 粥 慾 毓 褥 峪 拗 鈺 鬻 溽 淯 鵒 蓐 縟 宍 鋊 堉 鄏 鳿 錥 嗕 儥 媷 蒮 蘛 輍 袬 砡']}"
      ]
     },
     "execution_count": 26,
     "metadata": {},
     "output_type": "execute_result"
    }
   ],
   "source": [
    "d = {'Word':Unique_List,'Phon':looped_list}\n",
    "d"
   ]
  },
  {
   "cell_type": "code",
   "execution_count": 28,
   "metadata": {},
   "outputs": [],
   "source": [
    "df02 = pd.DataFrame(d)"
   ]
  },
  {
   "cell_type": "code",
   "execution_count": 29,
   "metadata": {},
   "outputs": [
    {
     "data": {
      "text/html": [
       "<div>\n",
       "<style scoped>\n",
       "    .dataframe tbody tr th:only-of-type {\n",
       "        vertical-align: middle;\n",
       "    }\n",
       "\n",
       "    .dataframe tbody tr th {\n",
       "        vertical-align: top;\n",
       "    }\n",
       "\n",
       "    .dataframe thead th {\n",
       "        text-align: right;\n",
       "    }\n",
       "</style>\n",
       "<table border=\"1\" class=\"dataframe\">\n",
       "  <thead>\n",
       "    <tr style=\"text-align: right;\">\n",
       "      <th></th>\n",
       "      <th>Word</th>\n",
       "      <th>Phon</th>\n",
       "    </tr>\n",
       "  </thead>\n",
       "  <tbody>\n",
       "    <tr>\n",
       "      <th>0</th>\n",
       "      <td>宗</td>\n",
       "      <td>中 從 眾 終 鐘 綜 縱 忠 蹤 衷 鍾 棕 盅 憧 淙 鬃 舂 忪 螽 舯 樅 憃 柊 ...</td>\n",
       "    </tr>\n",
       "    <tr>\n",
       "      <th>1</th>\n",
       "      <td>偉</td>\n",
       "      <td>唯 緯 韋 諱 卉 葦 瑋 湋 煒 韙 洧 暐 鮪 蘤 痏 薳 蒍 韡 瀢 濻 儰 徫 椲 ...</td>\n",
       "    </tr>\n",
       "    <tr>\n",
       "      <th>2</th>\n",
       "      <td>雅</td>\n",
       "      <td>啊 呀 鴉 啞 丫 椏 枒 厊 孲 錏</td>\n",
       "    </tr>\n",
       "    <tr>\n",
       "      <th>3</th>\n",
       "      <td>彥</td>\n",
       "      <td>現 見 研 諺 唁 硯 莧 峴 讞 鬳 俔 睍 喭 鋧 齞 齴 涀 牪 嵃 娊 粯</td>\n",
       "    </tr>\n",
       "    <tr>\n",
       "      <th>4</th>\n",
       "      <td>桂</td>\n",
       "      <td>貴 季 饋 瑰 悸 癸 蹶 鱖 劌 騩 溎 痵 嶡 瞶 鯚 炅 昋 暩 赽</td>\n",
       "    </tr>\n",
       "    <tr>\n",
       "      <th>5</th>\n",
       "      <td>于</td>\n",
       "      <td>於 淤 迂 芋 瘀 紆 邘 凵 扜 杅 玗 衧 陓 箊 穻 唹 盓</td>\n",
       "    </tr>\n",
       "    <tr>\n",
       "      <th>6</th>\n",
       "      <td>建</td>\n",
       "      <td>見 腱 毽 鋻</td>\n",
       "    </tr>\n",
       "    <tr>\n",
       "      <th>7</th>\n",
       "      <td>怡</td>\n",
       "      <td>而 兒 台 移 宜 儀 疑 擬 誼 夷 蛇 姨 涯 彝 飴 沂 詒 迤 酏 皚 頤 貽 咦 ...</td>\n",
       "    </tr>\n",
       "    <tr>\n",
       "      <th>8</th>\n",
       "      <td>佩</td>\n",
       "      <td>配 肺 妃 沛 珮 霈 茇 茷 昢 旆 琲 伂 姵</td>\n",
       "    </tr>\n",
       "    <tr>\n",
       "      <th>9</th>\n",
       "      <td>文</td>\n",
       "      <td>蚊 燜 炆</td>\n",
       "    </tr>\n",
       "    <tr>\n",
       "      <th>10</th>\n",
       "      <td>梅</td>\n",
       "      <td>煤 霉 媒 枚 玫 莓 脢 黴 塺 苺 腜 禖 鋂 呅</td>\n",
       "    </tr>\n",
       "    <tr>\n",
       "      <th>11</th>\n",
       "      <td>男</td>\n",
       "      <td>南 隆 喃 楠 囡 囝 蝻 蚺 枏 柟 諵 抩 暔 莮 萳</td>\n",
       "    </tr>\n",
       "    <tr>\n",
       "      <th>12</th>\n",
       "      <td>琪</td>\n",
       "      <td>其 期 示 奇 旗 枝 棋 騎 歧 祁 岐 祺 琦 祇 伎 崎 祈 俟 鰭 耆 畿 淇 鯕 ...</td>\n",
       "    </tr>\n",
       "    <tr>\n",
       "      <th>13</th>\n",
       "      <td>然</td>\n",
       "      <td>研 言 燃 弦 延 賢 焉 羨 筵 舷 涎 揅 妍 埏 鋋 㳄 㵪 𣶙 𣶛 𣶜 橪 絃 蜒 ...</td>\n",
       "    </tr>\n",
       "    <tr>\n",
       "      <th>14</th>\n",
       "      <td>翰</td>\n",
       "      <td>汗 焊 捍 扞 悍 矸 瀚 旰 犴 睅 攼 㪋 鳱 馯 鶾 銲 駻 涆 豻 釬 閈 撖 蔊 螒 雗</td>\n",
       "    </tr>\n",
       "    <tr>\n",
       "      <th>15</th>\n",
       "      <td>弘</td>\n",
       "      <td>宏 泓 嶸 竑 閎 吰 翃 宖 汯 浤 紘 耾 谹 鈜 鞃 鋐 彋 霐 苰 竤</td>\n",
       "    </tr>\n",
       "    <tr>\n",
       "      <th>16</th>\n",
       "      <td>卿</td>\n",
       "      <td>輕 興 氫 兄 馨 𠨍 鑋 漀 馫 蛵</td>\n",
       "    </tr>\n",
       "    <tr>\n",
       "      <th>17</th>\n",
       "      <td>廷</td>\n",
       "      <td>停 庭 亭 婷 蜓 霆 葶 綎 莛 渟 楟 筳 鼮 嵉 娗 榳 聤 蝏 閮</td>\n",
       "    </tr>\n",
       "    <tr>\n",
       "      <th>18</th>\n",
       "      <td>芳</td>\n",
       "      <td>方 荒 慌 肪 坊 謊 鈁 枋 肓 邡 匚 巟 汸 衁 淓</td>\n",
       "    </tr>\n",
       "    <tr>\n",
       "      <th>19</th>\n",
       "      <td>皓</td>\n",
       "      <td>稿 杲 鎬 縞 槁 暠 笴 檺 筶</td>\n",
       "    </tr>\n",
       "    <tr>\n",
       "      <th>20</th>\n",
       "      <td>玉</td>\n",
       "      <td>育 肉 賣 谷 欲 獄 辱 浴 粥 慾 毓 褥 峪 拗 鈺 鬻 溽 淯 鵒 蓐 縟 宍 鋊 ...</td>\n",
       "    </tr>\n",
       "  </tbody>\n",
       "</table>\n",
       "</div>"
      ],
      "text/plain": [
       "   Word                                               Phon\n",
       "0     宗  中 從 眾 終 鐘 綜 縱 忠 蹤 衷 鍾 棕 盅 憧 淙 鬃 舂 忪 螽 舯 樅 憃 柊 ...\n",
       "1     偉  唯 緯 韋 諱 卉 葦 瑋 湋 煒 韙 洧 暐 鮪 蘤 痏 薳 蒍 韡 瀢 濻 儰 徫 椲 ...\n",
       "2     雅                                啊 呀 鴉 啞 丫 椏 枒 厊 孲 錏\n",
       "3     彥          現 見 研 諺 唁 硯 莧 峴 讞 鬳 俔 睍 喭 鋧 齞 齴 涀 牪 嵃 娊 粯\n",
       "4     桂              貴 季 饋 瑰 悸 癸 蹶 鱖 劌 騩 溎 痵 嶡 瞶 鯚 炅 昋 暩 赽\n",
       "5     于                  於 淤 迂 芋 瘀 紆 邘 凵 扜 杅 玗 衧 陓 箊 穻 唹 盓\n",
       "6     建                                            見 腱 毽 鋻\n",
       "7     怡  而 兒 台 移 宜 儀 疑 擬 誼 夷 蛇 姨 涯 彝 飴 沂 詒 迤 酏 皚 頤 貽 咦 ...\n",
       "8     佩                          配 肺 妃 沛 珮 霈 茇 茷 昢 旆 琲 伂 姵\n",
       "9     文                                              蚊 燜 炆\n",
       "10    梅                        煤 霉 媒 枚 玫 莓 脢 黴 塺 苺 腜 禖 鋂 呅\n",
       "11    男                      南 隆 喃 楠 囡 囝 蝻 蚺 枏 柟 諵 抩 暔 莮 萳\n",
       "12    琪  其 期 示 奇 旗 枝 棋 騎 歧 祁 岐 祺 琦 祇 伎 崎 祈 俟 鰭 耆 畿 淇 鯕 ...\n",
       "13    然  研 言 燃 弦 延 賢 焉 羨 筵 舷 涎 揅 妍 埏 鋋 㳄 㵪 𣶙 𣶛 𣶜 橪 絃 蜒 ...\n",
       "14    翰  汗 焊 捍 扞 悍 矸 瀚 旰 犴 睅 攼 㪋 鳱 馯 鶾 銲 駻 涆 豻 釬 閈 撖 蔊 螒 雗\n",
       "15    弘            宏 泓 嶸 竑 閎 吰 翃 宖 汯 浤 紘 耾 谹 鈜 鞃 鋐 彋 霐 苰 竤\n",
       "16    卿                                輕 興 氫 兄 馨 𠨍 鑋 漀 馫 蛵\n",
       "17    廷              停 庭 亭 婷 蜓 霆 葶 綎 莛 渟 楟 筳 鼮 嵉 娗 榳 聤 蝏 閮\n",
       "18    芳                      方 荒 慌 肪 坊 謊 鈁 枋 肓 邡 匚 巟 汸 衁 淓\n",
       "19    皓                                  稿 杲 鎬 縞 槁 暠 笴 檺 筶\n",
       "20    玉  育 肉 賣 谷 欲 獄 辱 浴 粥 慾 毓 褥 峪 拗 鈺 鬻 溽 淯 鵒 蓐 縟 宍 鋊 ..."
      ]
     },
     "execution_count": 29,
     "metadata": {},
     "output_type": "execute_result"
    }
   ],
   "source": [
    "df02"
   ]
  },
  {
   "cell_type": "code",
   "execution_count": null,
   "metadata": {},
   "outputs": [],
   "source": []
  }
 ],
 "metadata": {
  "kernelspec": {
   "display_name": "Python 3",
   "language": "python",
   "name": "python3"
  },
  "language_info": {
   "codemirror_mode": {
    "name": "ipython",
    "version": 3
   },
   "file_extension": ".py",
   "mimetype": "text/x-python",
   "name": "python",
   "nbconvert_exporter": "python",
   "pygments_lexer": "ipython3",
   "version": "3.8.3"
  }
 },
 "nbformat": 4,
 "nbformat_minor": 4
}
